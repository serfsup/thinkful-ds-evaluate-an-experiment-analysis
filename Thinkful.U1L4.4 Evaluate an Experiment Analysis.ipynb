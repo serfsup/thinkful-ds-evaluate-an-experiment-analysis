{
 "cells": [
  {
   "cell_type": "markdown",
   "metadata": {},
   "source": [
    "<h3>The Sith Lords are concerned that their recruiting slogan, \"Give In to Your Anger,\" isn't very effective. Darth Vader develops an alternative slogan, \"Together We Can Rule the Galaxy.\" They compare the slogans on two groups of 50 captured droids each. In one group, Emperor Palpatine delivers the \"Anger\" slogan. In the other, Darth Vader presents the \"Together\" slogan. 20 droids convert to the Dark Side after hearing Palpatine's slogan, while only 5 droids convert after hearing Vader's. The Sith's data scientist concludes that \"Anger\" is a more effective slogan and should continue to be used.</h3>"
   ]
  },
  {
   "cell_type": "markdown",
   "metadata": {},
   "source": [
    "This experiment is flawed due to a bias in assignment to conditions.  If you are trying to see which slogan is more effective, then one needs to have them presented in the same way by the same person.  It is quite possible that Emperor Palpatine is more influential than Darth Vader, so even an inferior slogan would yield better results if delivered by him.  It would be best to have a neutral party deliver the slogans and then you avoid the bias."
   ]
  },
  {
   "cell_type": "markdown",
   "metadata": {},
   "source": [
    "<h3>In the past, the Jedi have had difficulty with public relations. They send two envoys, Jar Jar Binks and Mace Windu, to four friendly and four unfriendly planets respectively, with the goal of promoting favorable feelings toward the Jedi. Upon their return, the envoys learn that Jar Jar was much more effective than Windu: Over 75% of the people surveyed said their attitudes had become more favorable after speaking with Jar Jar, while only 65% said their attitudes had become more favorable after speaking with Windu. This makes Windu angry, because he is sure that he had a better success rate than Jar Jar on every planet. The Jedi choose Jar Jar to be their representative in the future.</h3>"
   ]
  },
  {
   "cell_type": "markdown",
   "metadata": {},
   "source": [
    "This experiment could be flawed due to Simpson's Paradox, sampling bias, bias in assignment to conditions, or contextual bias.  It is unclear whether they each visited the same four friendly and the same four unfriendly planets, or if they each visited eight separate planets (none of them visited by both).  If they both visited the same planets, then whomever visited the planet second would have the advantage of being able to gain supporters from the previous Jedi's visit as well as his own.  If they visited all unique planets, then it's possible that Jar Jar visited planets with greater populations, and the experiment could have used total people and not percentages.  It is also possible that Jar Jar could speak more languages than Mace, so he may have had a better chance of communicating with his populations.  "
   ]
  },
  {
   "cell_type": "markdown",
   "metadata": {},
   "source": [
    "<h3>A company with work sites in five different countries has sent you data on employee satisfaction rates for workers in Human Resources and workers in Information Technology. Most HR workers are concentrated in three of the countries, while IT workers are equally distributed across worksites. The company requests a report on satisfaction for each job type. You calculate average job satisfaction for HR and for IT and present the report.</h3>"
   ]
  },
  {
   "cell_type": "markdown",
   "metadata": {},
   "source": [
    "This experiment could also be flawed due to Simpson's Paradox, sampling bias or bias in assignment to conditions.  The problem here is that there could be skewed data due to the employee satisfaction of workers in the two countries that are not equally distributed with IT workers.  It is possible that the conditions in the two countries that are mostly HR workers have extreme satisfaction rates, one way or the other.  This would definitely affect the overall results of the report.  The results would need to be presented in subgroups in order to identify any anomolies in the data on the country level and on the HR/IT level."
   ]
  },
  {
   "cell_type": "markdown",
   "metadata": {},
   "source": [
    "<h3>When people install the Happy Days Fitness Tracker app, they are asked to \"opt in\" to a data collection scheme where their level of physical activity data is automatically sent to the company for product research purposes. During your interview with the company, they tell you that the app is very effective because after installing the app, the data show that people's activity levels rise steadily.</h3>"
   ]
  },
  {
   "cell_type": "markdown",
   "metadata": {},
   "source": [
    "This experiment is interesting on a few levels.  First, when a customer installs the Happy Days Fitness Tracker app, it would be the first day that one could possibly collect data on the customer's level of fitness.  Obviously this would show an increase in activity!  Secondly, even if one had been tracking fitness another way, odds are that when a person makes the decision to pay money for a company to help him or her get in shape, that is the point where a decision has been made to make a change.  A person wouldn't decide to join this group and then proceed to do LESS physical activity.  So these data on their own are essentially meaningless.  The one thing that it does tell you is that if the activity levels are rising steadily, that they are enjoying it and making a positive change in their lives."
   ]
  },
  {
   "cell_type": "markdown",
   "metadata": {},
   "source": [
    "<h3>To prevent cheating, a teacher writes three versions of a test. She stacks the three versions together, first all copies of Version A, then all copies of Version B, then all copies of Version C. As students arrive for the exam, each student takes a test. When grading the test, the teacher finds that students who took Version B scored higher than students who took either Version A or Version C. She concludes from this that Version B is easier, and discards it.</h3>"
   ]
  },
  {
   "cell_type": "markdown",
   "metadata": {},
   "source": [
    "People often enter a classroom with their friends, and they often sit with their friends in class as well.  If the students who came in together also sit together, then the possibility of cheating has just increased tremendously.  I would always give two versions of my tests, and give the \"A\" tests to students who sat across from one another and \"B\" tests to the students on either side of them.  It may not be that Version B was easier, but instead that students were working together and coming up with answers as a group."
   ]
  },
  {
   "cell_type": "code",
   "execution_count": null,
   "metadata": {},
   "outputs": [],
   "source": []
  }
 ],
 "metadata": {
  "kernelspec": {
   "display_name": "Python 3",
   "language": "python",
   "name": "python3"
  },
  "language_info": {
   "codemirror_mode": {
    "name": "ipython",
    "version": 3
   },
   "file_extension": ".py",
   "mimetype": "text/x-python",
   "name": "python",
   "nbconvert_exporter": "python",
   "pygments_lexer": "ipython3",
   "version": "3.6.1"
  }
 },
 "nbformat": 4,
 "nbformat_minor": 2
}
